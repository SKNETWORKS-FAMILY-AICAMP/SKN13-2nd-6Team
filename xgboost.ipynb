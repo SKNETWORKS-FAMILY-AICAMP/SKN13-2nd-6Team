{
 "cells": [
  {
   "cell_type": "code",
   "execution_count": 17,
   "id": "e73ff5ba",
   "metadata": {},
   "outputs": [],
   "source": [
    "import numpy as np\n",
    "import pandas as pd\n",
    "from sklearn.pipeline import Pipeline\n",
    "from sklearn.compose import ColumnTransformer\n",
    "from sklearn.preprocessing import StandardScaler, OneHotEncoder"
   ]
  },
  {
   "cell_type": "code",
   "execution_count": 18,
   "id": "5dbad3b3",
   "metadata": {},
   "outputs": [],
   "source": [
    "# ------------------------------------------------------\n",
    "# 📂 0. 데이터 로드 & 초기 정리\n",
    "# ------------------------------------------------------\n",
    "data_path = 'data/datasets.csv'\n",
    "data = pd.read_csv(data_path)"
   ]
  },
  {
   "cell_type": "code",
   "execution_count": 19,
   "id": "c7587563",
   "metadata": {},
   "outputs": [],
   "source": [
    "# 불필요한 컬럼 제거\n",
    "drop_cols = ['EmployeeNumber', 'EmployeeCount', 'Over18', 'StandardHours']\n",
    "data.drop(columns=drop_cols, inplace=True)"
   ]
  },
  {
   "cell_type": "code",
   "execution_count": 20,
   "id": "b0bd5746",
   "metadata": {},
   "outputs": [],
   "source": [
    "# 타겟값 변환\n",
    "data['Attrition'] = data['Attrition'].map({'Yes': 1, 'No': 0})"
   ]
  },
  {
   "cell_type": "code",
   "execution_count": 21,
   "id": "df601d87",
   "metadata": {},
   "outputs": [],
   "source": [
    "# ------------------------------------------------------\n",
    "# ⚠️ 1. 이상값 및 결측 처리\n",
    "# ------------------------------------------------------\n",
    "# 0으로 나누기 방지용 NaN 처리\n",
    "data['TotalWorkingYears'] = data['TotalWorkingYears'].replace(0, np.nan)\n",
    "data['YearsAtCompany'] = data['YearsAtCompany'].replace(0, np.nan)"
   ]
  },
  {
   "cell_type": "code",
   "execution_count": 22,
   "id": "72c2b2f1",
   "metadata": {},
   "outputs": [],
   "source": [
    "# ------------------------------------------------------\n",
    "# 🎯 2. 커리어 관련 파생 변수\n",
    "# ------------------------------------------------------\n",
    "data['CareerStartAge'] = data['Age'] - data['TotalWorkingYears']                  # 첫 커리어 시작 나이\n",
    "data['LoyaltyRatio'] = data['YearsAtCompany'] / data['TotalWorkingYears']        # 충성도 비율\n",
    "data['PromotionDelay'] = data['YearsAtCompany'] - data['YearsSinceLastPromotion']# 승진까지 소요 기간\n"
   ]
  },
  {
   "cell_type": "code",
   "execution_count": 23,
   "id": "8128b3a9",
   "metadata": {},
   "outputs": [],
   "source": [
    "# ------------------------------------------------------\n",
    "# 🏢 3. 근속 관련 파생 변수\n",
    "# ------------------------------------------------------\n",
    "data['CompanyLoyalty'] = data['YearsAtCompany'] / data['TotalWorkingYears']      # 회사 전체 근속 비율\n",
    "data['RoleStability'] = data['YearsInCurrentRole'] / data['YearsAtCompany']      # 현재 직무 지속 비율\n",
    "data['ManagerBond'] = data['YearsWithCurrManager'] / data['YearsAtCompany']      # 매니저 유대 비율"
   ]
  },
  {
   "cell_type": "code",
   "execution_count": 24,
   "id": "f5fdcdb1",
   "metadata": {},
   "outputs": [],
   "source": [
    "# ------------------------------------------------------\n",
    "# 🔁 4. 이직/승진 경향\n",
    "# ------------------------------------------------------\n",
    "data['JobHopFrequency'] = data['NumCompaniesWorked'] / data['TotalWorkingYears'] # 연평균 이직 횟수\n",
    "data['RecentlyPromoted'] = (data['YearsSinceLastPromotion'] <= 3).astype(int)     # 최근 3년 내 승진 여부"
   ]
  },
  {
   "cell_type": "code",
   "execution_count": 25,
   "id": "fd0ad40c",
   "metadata": {},
   "outputs": [],
   "source": [
    "# ------------------------------------------------------\n",
    "# 💰 5. 급여 및 성과 관련 변수\n",
    "# ------------------------------------------------------\n",
    "data['IncomePerYear'] = data['MonthlyIncome'] / data['TotalWorkingYears']        # 경력 대비 소득\n",
    "data['HighPerformerQuit'] = ((data['PerformanceRating'] == 4) & \n",
    "                             (data['Attrition'] == 1)).astype(int)                # 고성과 이탈자 여부"
   ]
  },
  {
   "cell_type": "code",
   "execution_count": 26,
   "id": "6ea5b564",
   "metadata": {},
   "outputs": [],
   "source": [
    "# ------------------------------------------------------\n",
    "# 🛣️ 6. 스트레스 및 이동 관련 변수\n",
    "# ------------------------------------------------------\n",
    "data['LongCommute'] = (data['DistanceFromHome'] > 20).astype(int)                # 장거리 출퇴근 여부\n",
    "data['OverworkedPoorBalance'] = ((data['OverTime'] == 'Yes') & \n",
    "                                 (data['WorkLifeBalance'] <= 2)).astype(int)      # 워라밸 붕괴 여부"
   ]
  },
  {
   "cell_type": "code",
   "execution_count": 27,
   "id": "66f996ab",
   "metadata": {},
   "outputs": [],
   "source": [
    "# ------------------------------------------------------\n",
    "# 😊 7. 종합 만족도\n",
    "# ------------------------------------------------------\n",
    "data['OverallSatisfaction'] = (\n",
    "    data['EnvironmentSatisfaction'] + \n",
    "    data['JobSatisfaction'] + \n",
    "    data['RelationshipSatisfaction']\n",
    ") / 3                                                                             # 평균 만족도"
   ]
  },
  {
   "cell_type": "code",
   "execution_count": 28,
   "id": "97f060a6",
   "metadata": {},
   "outputs": [],
   "source": [
    "# ------------------------------------------------------\n",
    "# 🧑‍💼 8. 직급 기반 고위직 구분\n",
    "# ------------------------------------------------------\n",
    "manager_roles = ['Manager', 'Research Director']\n",
    "data['Is_Manager'] = ((data['JobRole'].isin(manager_roles)) & \n",
    "                      (data['JobLevel'] >= 3)).astype(int)                        # 고위직 여부"
   ]
  },
  {
   "cell_type": "code",
   "execution_count": 29,
   "id": "e81102c3",
   "metadata": {},
   "outputs": [],
   "source": [
    "# ------------------------------------------------------\n",
    "# 🧹 9. 결측값 정리\n",
    "# ------------------------------------------------------\n",
    "data.fillna(0, inplace=True)"
   ]
  },
  {
   "cell_type": "code",
   "execution_count": 30,
   "id": "32ff9cce",
   "metadata": {},
   "outputs": [],
   "source": [
    "# ------------------------------------------------------\n",
    "# ⚙️ 10. 컬럼 타입 분리\n",
    "# ------------------------------------------------------\n",
    "numeric_features = data.select_dtypes(include=['int64', 'float64']).drop(columns=['Attrition']).columns.tolist()\n",
    "categorical_features = data.select_dtypes(include=['object']).columns.tolist()"
   ]
  },
  {
   "cell_type": "code",
   "execution_count": null,
   "id": "e15a7f8b",
   "metadata": {},
   "outputs": [],
   "source": [
    "# ------------------------------------------------------\n",
    "# 🧪 11. 전처리 파이프라인 구성 및 적용\n",
    "# ------------------------------------------------------\n",
    "preprocessor = ColumnTransformer(\n",
    "    transformers=[\n",
    "        ('num', StandardScaler(), numeric_features),\n",
    "        ('cat', OneHotEncoder(drop='first', handle_unknown='ignore'), categorical_features)\n",
    "    ]\n",
    ")"
   ]
  },
  {
   "cell_type": "code",
   "execution_count": null,
   "id": "a0461547",
   "metadata": {},
   "outputs": [],
   "source": []
  }
 ],
 "metadata": {
  "kernelspec": {
   "display_name": "ml",
   "language": "python",
   "name": "python3"
  },
  "language_info": {
   "codemirror_mode": {
    "name": "ipython",
    "version": 3
   },
   "file_extension": ".py",
   "mimetype": "text/x-python",
   "name": "python",
   "nbconvert_exporter": "python",
   "pygments_lexer": "ipython3",
   "version": "3.12.10"
  }
 },
 "nbformat": 4,
 "nbformat_minor": 5
}
