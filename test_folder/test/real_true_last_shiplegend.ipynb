{
 "cells": [
  {
   "cell_type": "code",
   "execution_count": 41,
   "id": "30c8003c",
   "metadata": {},
   "outputs": [],
   "source": [
    "import pandas as pd\n",
    "path = 'data/datasets.csv'\n",
    "data = pd.read_csv(path)"
   ]
  },
  {
   "cell_type": "code",
   "execution_count": 42,
   "id": "33813f97",
   "metadata": {},
   "outputs": [
    {
     "data": {
      "text/html": [
       "<div>\n",
       "<style scoped>\n",
       "    .dataframe tbody tr th:only-of-type {\n",
       "        vertical-align: middle;\n",
       "    }\n",
       "\n",
       "    .dataframe tbody tr th {\n",
       "        vertical-align: top;\n",
       "    }\n",
       "\n",
       "    .dataframe thead th {\n",
       "        text-align: right;\n",
       "    }\n",
       "</style>\n",
       "<table border=\"1\" class=\"dataframe\">\n",
       "  <thead>\n",
       "    <tr style=\"text-align: right;\">\n",
       "      <th></th>\n",
       "      <th>Age</th>\n",
       "      <th>Attrition</th>\n",
       "      <th>BusinessTravel</th>\n",
       "      <th>DailyRate</th>\n",
       "      <th>Department</th>\n",
       "      <th>DistanceFromHome</th>\n",
       "      <th>Education</th>\n",
       "      <th>EducationField</th>\n",
       "      <th>EmployeeCount</th>\n",
       "      <th>EmployeeNumber</th>\n",
       "      <th>...</th>\n",
       "      <th>RelationshipSatisfaction</th>\n",
       "      <th>StandardHours</th>\n",
       "      <th>StockOptionLevel</th>\n",
       "      <th>TotalWorkingYears</th>\n",
       "      <th>TrainingTimesLastYear</th>\n",
       "      <th>WorkLifeBalance</th>\n",
       "      <th>YearsAtCompany</th>\n",
       "      <th>YearsInCurrentRole</th>\n",
       "      <th>YearsSinceLastPromotion</th>\n",
       "      <th>YearsWithCurrManager</th>\n",
       "    </tr>\n",
       "  </thead>\n",
       "  <tbody>\n",
       "    <tr>\n",
       "      <th>0</th>\n",
       "      <td>41</td>\n",
       "      <td>Yes</td>\n",
       "      <td>Travel_Rarely</td>\n",
       "      <td>1102</td>\n",
       "      <td>Sales</td>\n",
       "      <td>1</td>\n",
       "      <td>2</td>\n",
       "      <td>Life Sciences</td>\n",
       "      <td>1</td>\n",
       "      <td>1</td>\n",
       "      <td>...</td>\n",
       "      <td>1</td>\n",
       "      <td>80</td>\n",
       "      <td>0</td>\n",
       "      <td>8</td>\n",
       "      <td>0</td>\n",
       "      <td>1</td>\n",
       "      <td>6</td>\n",
       "      <td>4</td>\n",
       "      <td>0</td>\n",
       "      <td>5</td>\n",
       "    </tr>\n",
       "    <tr>\n",
       "      <th>1</th>\n",
       "      <td>49</td>\n",
       "      <td>No</td>\n",
       "      <td>Travel_Frequently</td>\n",
       "      <td>279</td>\n",
       "      <td>Research &amp; Development</td>\n",
       "      <td>8</td>\n",
       "      <td>1</td>\n",
       "      <td>Life Sciences</td>\n",
       "      <td>1</td>\n",
       "      <td>2</td>\n",
       "      <td>...</td>\n",
       "      <td>4</td>\n",
       "      <td>80</td>\n",
       "      <td>1</td>\n",
       "      <td>10</td>\n",
       "      <td>3</td>\n",
       "      <td>3</td>\n",
       "      <td>10</td>\n",
       "      <td>7</td>\n",
       "      <td>1</td>\n",
       "      <td>7</td>\n",
       "    </tr>\n",
       "    <tr>\n",
       "      <th>2</th>\n",
       "      <td>37</td>\n",
       "      <td>Yes</td>\n",
       "      <td>Travel_Rarely</td>\n",
       "      <td>1373</td>\n",
       "      <td>Research &amp; Development</td>\n",
       "      <td>2</td>\n",
       "      <td>2</td>\n",
       "      <td>Other</td>\n",
       "      <td>1</td>\n",
       "      <td>4</td>\n",
       "      <td>...</td>\n",
       "      <td>2</td>\n",
       "      <td>80</td>\n",
       "      <td>0</td>\n",
       "      <td>7</td>\n",
       "      <td>3</td>\n",
       "      <td>3</td>\n",
       "      <td>0</td>\n",
       "      <td>0</td>\n",
       "      <td>0</td>\n",
       "      <td>0</td>\n",
       "    </tr>\n",
       "    <tr>\n",
       "      <th>3</th>\n",
       "      <td>33</td>\n",
       "      <td>No</td>\n",
       "      <td>Travel_Frequently</td>\n",
       "      <td>1392</td>\n",
       "      <td>Research &amp; Development</td>\n",
       "      <td>3</td>\n",
       "      <td>4</td>\n",
       "      <td>Life Sciences</td>\n",
       "      <td>1</td>\n",
       "      <td>5</td>\n",
       "      <td>...</td>\n",
       "      <td>3</td>\n",
       "      <td>80</td>\n",
       "      <td>0</td>\n",
       "      <td>8</td>\n",
       "      <td>3</td>\n",
       "      <td>3</td>\n",
       "      <td>8</td>\n",
       "      <td>7</td>\n",
       "      <td>3</td>\n",
       "      <td>0</td>\n",
       "    </tr>\n",
       "    <tr>\n",
       "      <th>4</th>\n",
       "      <td>27</td>\n",
       "      <td>No</td>\n",
       "      <td>Travel_Rarely</td>\n",
       "      <td>591</td>\n",
       "      <td>Research &amp; Development</td>\n",
       "      <td>2</td>\n",
       "      <td>1</td>\n",
       "      <td>Medical</td>\n",
       "      <td>1</td>\n",
       "      <td>7</td>\n",
       "      <td>...</td>\n",
       "      <td>4</td>\n",
       "      <td>80</td>\n",
       "      <td>1</td>\n",
       "      <td>6</td>\n",
       "      <td>3</td>\n",
       "      <td>3</td>\n",
       "      <td>2</td>\n",
       "      <td>2</td>\n",
       "      <td>2</td>\n",
       "      <td>2</td>\n",
       "    </tr>\n",
       "  </tbody>\n",
       "</table>\n",
       "<p>5 rows × 35 columns</p>\n",
       "</div>"
      ],
      "text/plain": [
       "   Age Attrition     BusinessTravel  DailyRate              Department  \\\n",
       "0   41       Yes      Travel_Rarely       1102                   Sales   \n",
       "1   49        No  Travel_Frequently        279  Research & Development   \n",
       "2   37       Yes      Travel_Rarely       1373  Research & Development   \n",
       "3   33        No  Travel_Frequently       1392  Research & Development   \n",
       "4   27        No      Travel_Rarely        591  Research & Development   \n",
       "\n",
       "   DistanceFromHome  Education EducationField  EmployeeCount  EmployeeNumber  \\\n",
       "0                 1          2  Life Sciences              1               1   \n",
       "1                 8          1  Life Sciences              1               2   \n",
       "2                 2          2          Other              1               4   \n",
       "3                 3          4  Life Sciences              1               5   \n",
       "4                 2          1        Medical              1               7   \n",
       "\n",
       "   ...  RelationshipSatisfaction StandardHours  StockOptionLevel  \\\n",
       "0  ...                         1            80                 0   \n",
       "1  ...                         4            80                 1   \n",
       "2  ...                         2            80                 0   \n",
       "3  ...                         3            80                 0   \n",
       "4  ...                         4            80                 1   \n",
       "\n",
       "   TotalWorkingYears  TrainingTimesLastYear WorkLifeBalance  YearsAtCompany  \\\n",
       "0                  8                      0               1               6   \n",
       "1                 10                      3               3              10   \n",
       "2                  7                      3               3               0   \n",
       "3                  8                      3               3               8   \n",
       "4                  6                      3               3               2   \n",
       "\n",
       "  YearsInCurrentRole  YearsSinceLastPromotion  YearsWithCurrManager  \n",
       "0                  4                        0                     5  \n",
       "1                  7                        1                     7  \n",
       "2                  0                        0                     0  \n",
       "3                  7                        3                     0  \n",
       "4                  2                        2                     2  \n",
       "\n",
       "[5 rows x 35 columns]"
      ]
     },
     "execution_count": 42,
     "metadata": {},
     "output_type": "execute_result"
    }
   ],
   "source": [
    "# 잘 load 되었는지 확인\n",
    "data.head(5)"
   ]
  },
  {
   "cell_type": "code",
   "execution_count": 43,
   "id": "07ccc11f",
   "metadata": {},
   "outputs": [
    {
     "data": {
      "text/plain": [
       "(Index(['Age', 'Attrition', 'BusinessTravel', 'DailyRate', 'Department',\n",
       "        'DistanceFromHome', 'Education', 'EducationField', 'EmployeeCount',\n",
       "        'EmployeeNumber', 'EnvironmentSatisfaction', 'Gender', 'HourlyRate',\n",
       "        'JobInvolvement', 'JobLevel', 'JobRole', 'JobSatisfaction',\n",
       "        'MaritalStatus', 'MonthlyIncome', 'MonthlyRate', 'NumCompaniesWorked',\n",
       "        'Over18', 'OverTime', 'PercentSalaryHike', 'PerformanceRating',\n",
       "        'RelationshipSatisfaction', 'StandardHours', 'StockOptionLevel',\n",
       "        'TotalWorkingYears', 'TrainingTimesLastYear', 'WorkLifeBalance',\n",
       "        'YearsAtCompany', 'YearsInCurrentRole', 'YearsSinceLastPromotion',\n",
       "        'YearsWithCurrManager'],\n",
       "       dtype='object'),\n",
       " 35)"
      ]
     },
     "execution_count": 43,
     "metadata": {},
     "output_type": "execute_result"
    }
   ],
   "source": [
    "data.columns, len(data.columns)"
   ]
  },
  {
   "cell_type": "code",
   "execution_count": 44,
   "id": "5c0aa3a9",
   "metadata": {},
   "outputs": [],
   "source": [
    "# 파이프라인 \n",
    "import pandas as pd \n",
    "from sklearn.base import BaseEstimator, TransformerMixin\n",
    "from sklearn.pipeline import Pipeline\n",
    "from sklearn.preprocessing import MinMaxScaler, FunctionTransformer\n",
    "from sklearn.compose import ColumnTransformer\n",
    "from sklearn.impute import SimpleImputer\n",
    "\n",
    "\n",
    "# === 1. 사용자 정의 매핑 클래스 ===\n",
    "class ManualMapper(BaseEstimator,TransformerMixin):\n",
    "    def __init__(self):\n",
    "        self.mappings = {\n",
    "            'Attrition' : {\"Yes\":1, \"No\":0},\n",
    "            'OverTime' : {\"Yes\":1,\"No\":0},\n",
    "            'BusinessTravel':{\n",
    "                'Travel_Rarely': 2, 'Travel_Frequently': 3, 'Non-Travel': 4\n",
    "            },\n",
    "            'MaritalStatus' : {'Single': 2, 'Married': 3, 'Divorced': 4},\n",
    "            'Department': {'Sales': 2, 'Human Resources': 3, 'Research & Development': 4\n",
    "\n",
    "            },\n",
    "            'JobRole':{\n",
    "                'Sales Executive': 2, 'Manufacturing Director': 3, 'Healthcare Representative': 4,\n",
    "                'Manager': 2, 'Research Director': 3, 'Laboratory Technician': 4,\n",
    "                'Sales Representative': 2, 'Research Scientist': 3, 'Human Resources': 4\n",
    "            }\n",
    "        }\n",
    "\n",
    "    def fit(self,X,y=None):\n",
    "        return self\n",
    "    \n",
    "    def transform(self,X):\n",
    "        X = X.copy()\n",
    "        for col,mapping in self.mappings.items():\n",
    "            if col in X.columns:\n",
    "                X[col] = X[col].map(mapping)\n",
    "        return X\n",
    "    \n",
    "# === 2. 파이프라인 구성 ===\n",
    "data[\"Attrition\"]= data[\"Attrition\"].map({'Yes':1, \"No\":0})\n",
    "# 제거할 컬럼 \n",
    "drop_cols = [\n",
    "        'Over18', 'EmployeeNumber', 'EmployeeCount', 'StandardHours',\n",
    "    'MonthlyIncome', 'YearsInCurrentRole', 'YearsAtCompany', 'YearsWithCurrManager',\n",
    "    \"TotalWorkingYears\", \"TrainingTimesLastYear\", \"DistanceFromHome\", \"EducationField\",\n",
    "    \"MonthlyRate\", \"HourlyRate\", \"YearsSinceLastPromotion\", \"PerformanceRating\",\n",
    "    \"PercentSalaryHike\", \"DailyRate\", \"Gender\"\n",
    "]\n",
    "\n",
    "# 전체 파이프라인 \n",
    "full_pipeline = Pipeline([\n",
    "    ('manual_mapper',ManualMapper()),\n",
    "    ('drop_columns',FunctionTransformer(lambda data: data.drop(columns=drop_cols))),\n",
    "    ('scaling', ColumnTransformer([\n",
    "        ('minmax',MinMaxScaler(),lambda data:data.drop(columns=['Attrition']).columns)\n",
    "    ],remainder='drop'))\n",
    "\n",
    "])\n",
    "\n",
    "# === 3. 적용 ===\n",
    "X_processed= full_pipeline.fit_transform(data)\n",
    "\n",
    "# === 4. 데이터 분리 ===\n",
    "# processed_data = pd.DataFrame(processed_df,columns=data.drop(columns=drop_cols).columns)\n",
    "X_columns = data.drop(columns=drop_cols + [\"Attrition\"]).columns\n",
    "X = pd.DataFrame(X_processed,columns=X_columns)\n",
    "Y = data['Attrition']"
   ]
  },
  {
   "cell_type": "code",
   "execution_count": 45,
   "id": "ea66a04e",
   "metadata": {},
   "outputs": [
    {
     "data": {
      "text/plain": [
       "0       1\n",
       "1       0\n",
       "2       1\n",
       "3       0\n",
       "4       0\n",
       "       ..\n",
       "1465    0\n",
       "1466    0\n",
       "1467    0\n",
       "1468    0\n",
       "1469    0\n",
       "Name: Attrition, Length: 1470, dtype: int64"
      ]
     },
     "execution_count": 45,
     "metadata": {},
     "output_type": "execute_result"
    }
   ],
   "source": [
    "Y"
   ]
  },
  {
   "cell_type": "code",
   "execution_count": 46,
   "id": "a540722b",
   "metadata": {},
   "outputs": [],
   "source": [
    "# # 무의미한 값 drop\n",
    "# data = data.drop(['Over18', 'EmployeeNumber','EmployeeCount','StandardHours'],axis=1)\n",
    "# data = data.drop(['MonthlyIncome' ,'YearsInCurrentRole' , 'YearsAtCompany', 'YearsWithCurrManager'],axis=1)\n",
    "# top_features = [\n",
    "#     \"TotalWorkingYears\",\n",
    "#     \"TrainingTimesLastYear\",\n",
    "#     \"DistanceFromHome\",\n",
    "#     \"EducationField\",\n",
    "#     \"MonthlyRate\",\n",
    "#     \"HourlyRate\",\n",
    "#     \"YearsSinceLastPromotion\",\n",
    "#     \"PerformanceRating\",\n",
    "#     \"PercentSalaryHike\",\n",
    "#     \"DailyRate\",\n",
    "#     \"Gender\"\n",
    "# ]\n",
    "\n",
    "# data = data.drop(columns=top_features,axis=1)\n",
    "# len(data.columns)"
   ]
  },
  {
   "cell_type": "code",
   "execution_count": 47,
   "id": "45848f7f",
   "metadata": {},
   "outputs": [],
   "source": [
    "# data.columns, len(data.columns)"
   ]
  },
  {
   "cell_type": "code",
   "execution_count": 48,
   "id": "9b78a6cb",
   "metadata": {},
   "outputs": [],
   "source": [
    "# data['Attrition'] = data['Attrition'].map({'Yes':1,'No':0})\n",
    "# data['OverTime'] = data['OverTime'].map({'Yes':1,'No':0})\n",
    "# data['Gender'] = data['Gender'].map({'Male':1,'Female':0})\n",
    "\n",
    "# data['BusinessTravel'] = data['BusinessTravel'].map({\n",
    "#     'Travel_Rarely':2,\n",
    "#     'Travel_Frequently':3,\n",
    "#     'Non-Travel':4\n",
    "# })\n",
    "\n",
    "# data['MaritalStatus'] = data['MaritalStatus'].map({\n",
    "#     'Single':2,\n",
    "#     'Married':3,\n",
    "#     'Divorced':4\n",
    "# })\n",
    "\n",
    "# data['Department'] = data['Department'].map({\n",
    "#     'Sales':2,\n",
    "#     'Human Resources':3,\n",
    "#     'Research & Development':4\n",
    "# })\n",
    "\n",
    "# data['EducationField'] = data['EducationField'].map({\n",
    "#     'Life Sciences':2,\n",
    "#     'Medical':3,\n",
    "#     'Marketing':4,\n",
    "#     'Technical Degree':2,\n",
    "#     'Human Resources':3,\n",
    "#     'Other': 4\n",
    "# })\n",
    "\n",
    "# data['JobRole'] = data['JobRole'].map({\n",
    "#     'Sales Executive':2,\n",
    "#     'Manufacturing Director':3,\n",
    "#     'Healthcare Representative':4,\n",
    "#     'Manager':2,\n",
    "#     'Research Director':3,\n",
    "#     'Laboratory Technician':4,\n",
    "#     'Sales Representative':2,\n",
    "#     'Research Scientist':3,\n",
    "#     'Human Resources':4\n",
    "# })"
   ]
  },
  {
   "cell_type": "code",
   "execution_count": 49,
   "id": "aed68fbe",
   "metadata": {},
   "outputs": [],
   "source": [
    "# data = data.drop(['MonthlyIncome' ,'YearsInCurrentRole' , 'YearsAtCompany', 'YearsWithCurrManager'],axis=1)"
   ]
  },
  {
   "cell_type": "code",
   "execution_count": 50,
   "id": "cd2344cb",
   "metadata": {},
   "outputs": [],
   "source": [
    "# #normalizing \n",
    "# from sklearn import preprocessing\n",
    "# scaler = preprocessing.MinMaxScaler(feature_range = (0,1))\n",
    "# DF1 = data.drop(columns=['Attrition'])\n",
    "# norm = scaler.fit_transform(data)\n",
    "# norm_df = pd.DataFrame(norm,columns=data.columns)"
   ]
  },
  {
   "cell_type": "code",
   "execution_count": 51,
   "id": "15f6ca9b",
   "metadata": {},
   "outputs": [],
   "source": [
    "# X = pd.DataFrame(norm_df.drop(columns='Attrition'))\n",
    "# Y = pd.DataFrame(norm_df.Attrition).values.reshape(-1, 1)"
   ]
  },
  {
   "cell_type": "code",
   "execution_count": 52,
   "id": "fc55c4f5",
   "metadata": {},
   "outputs": [],
   "source": [
    "from sklearn.model_selection import train_test_split\n",
    "\n",
    "X_train, X_test , y_train, y_test = train_test_split (X ,Y ,test_size = 0.2, random_state = 0)"
   ]
  },
  {
   "cell_type": "code",
   "execution_count": 53,
   "id": "fc283000",
   "metadata": {},
   "outputs": [
    {
     "data": {
      "text/plain": [
       "442     0\n",
       "1091    0\n",
       "981     1\n",
       "785     0\n",
       "1332    1\n",
       "       ..\n",
       "1439    0\n",
       "481     0\n",
       "124     1\n",
       "198     0\n",
       "1229    0\n",
       "Name: Attrition, Length: 294, dtype: int64"
      ]
     },
     "execution_count": 53,
     "metadata": {},
     "output_type": "execute_result"
    }
   ],
   "source": [
    "y_test"
   ]
  },
  {
   "cell_type": "code",
   "execution_count": 54,
   "id": "fb8e68e2",
   "metadata": {},
   "outputs": [],
   "source": [
    "#SMOTE\n",
    "from imblearn.over_sampling import SMOTE\n",
    "\n",
    "oversampler=SMOTE(random_state=0)\n",
    "smote_train, smote_target = oversampler.fit_resample(X_train,y_train)"
   ]
  },
  {
   "cell_type": "code",
   "execution_count": 55,
   "id": "32a4817a",
   "metadata": {},
   "outputs": [],
   "source": [
    "from sklearn import metrics\n",
    "X_train, X_test, y_train, y_test = train_test_split(X, Y, test_size = 0.2, random_state = 42)"
   ]
  },
  {
   "cell_type": "code",
   "execution_count": 56,
   "id": "751ed731",
   "metadata": {},
   "outputs": [
    {
     "name": "stdout",
     "output_type": "stream",
     "text": [
      "accuracy 0.9829931972789115\n"
     ]
    }
   ],
   "source": [
    "#### XGBoost classifier\n",
    "\n",
    "from sklearn.model_selection import GridSearchCV\n",
    "from xgboost import XGBClassifier\n",
    "\n",
    "best_acc = 0.0\n",
    "best_clf = None\n",
    "best_model_name = \"\"\n",
    "best_params = {}\n",
    "scoring_list = ['accuracy','recall','f1']\n",
    "scoring = scoring_list[0]\n",
    "\n",
    "import numpy as np\n",
    "\n",
    "xgb_clf = XGBClassifier()\n",
    "xgb_clf.fit(smote_train, smote_target)\n",
    "\n",
    "y_pred = xgb_clf.predict(X_test)\n",
    "print('accuracy',metrics.accuracy_score(y_test, y_pred))\n",
    "\n",
    "import pickle\n",
    "with open('xgb.pkl','wb') as f:\n",
    "    pickle.dump(xgb_clf,f)"
   ]
  },
  {
   "cell_type": "code",
   "execution_count": 57,
   "id": "8fbdbec4",
   "metadata": {},
   "outputs": [
    {
     "data": {
      "image/png": "[encoded data removed]",
      "text/plain": [
       "<Figure size 800x600 with 1 Axes>"
      ]
     },
     "metadata": {},
     "output_type": "display_data"
    }
   ],
   "source": [
    "import matplotlib.pyplot as plt\n",
    "import seaborn as sns\n",
    "\n",
    "# 5. feature importance\n",
    "importances = xgb_clf.feature_importances_\n",
    "\n",
    "# 4. 중요도 매핑\n",
    "coef_df = pd.DataFrame({\n",
    "    \"Feature\": X.columns,\n",
    "    \"Importance\": importances\n",
    "}).sort_values(by=\"Importance\", ascending=False)\n",
    "\n",
    "# 5. 시각화\n",
    "plt.figure(figsize=(8, 6))\n",
    "sns.barplot(x=\"Importance\", y=\"Feature\", data=coef_df)\n",
    "plt.title(\"Top 10 Important Features (Pipeline + XGBoost)\")\n",
    "plt.savefig(\"pipeline+xgb.png\")\n",
    "plt.tight_layout()\n",
    "plt.show()"
   ]
  },
  {
   "cell_type": "code",
   "execution_count": 58,
   "id": "db382ace",
   "metadata": {},
   "outputs": [
    {
     "data": {
      "text/plain": [
       "15"
      ]
     },
     "execution_count": 58,
     "metadata": {},
     "output_type": "execute_result"
    }
   ],
   "source": [
    "len(coef_df)"
   ]
  },
  {
   "cell_type": "code",
   "execution_count": 59,
   "id": "236e8a06",
   "metadata": {},
   "outputs": [
    {
     "data": {
      "image/png": "[encoded data removed]",
      "text/plain": [
       "<Figure size 500x400 with 2 Axes>"
      ]
     },
     "metadata": {},
     "output_type": "display_data"
    }
   ],
   "source": [
    "from sklearn.metrics import (\n",
    "    accuracy_score,\n",
    "    classification_report,\n",
    "    confusion_matrix,\n",
    "    roc_curve,\n",
    "    auc,\n",
    "    precision_recall_curve\n",
    ")\n",
    "\n",
    "cm = confusion_matrix(y_test, y_pred)\n",
    "plt.figure(figsize=(5, 4))\n",
    "sns.heatmap(cm, annot=True, fmt=\"d\", cmap=\"Blues\", xticklabels=[\"No\", \"Yes\"], yticklabels=[\"No\", \"Yes\"])\n",
    "plt.xlabel(\"Predicted\")\n",
    "plt.ylabel(\"Actual\")\n",
    "plt.title(f\"Confusion Matrix)\")\n",
    "plt.tight_layout()\n",
    "plt.show()"
   ]
  },
  {
   "cell_type": "code",
   "execution_count": null,
   "id": "5ab29137",
   "metadata": {},
   "outputs": [],
   "source": []
  }
 ],
 "metadata": {
  "kernelspec": {
   "display_name": "dl",
   "language": "python",
   "name": "python3"
  },
  "language_info": {
   "codemirror_mode": {
    "name": "ipython",
    "version": 3
   },
   "file_extension": ".py",
   "mimetype": "text/x-python",
   "name": "python",
   "nbconvert_exporter": "python",
   "pygments_lexer": "ipython3",
   "version": "3.12.9"
  }
 },
 "nbformat": 4,
 "nbformat_minor": 5
}
