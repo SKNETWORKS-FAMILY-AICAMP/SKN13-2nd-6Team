{
 "cells": [
  {
   "cell_type": "code",
   "execution_count": 107,
   "id": "45e1be39",
   "metadata": {},
   "outputs": [],
   "source": [
    "import pandas as pd\n",
    "path = 'data/datasets.csv'\n",
    "df = pd.read_csv(path)"
   ]
  },
  {
   "cell_type": "code",
   "execution_count": 108,
   "id": "5df24fbb",
   "metadata": {},
   "outputs": [
    {
     "data": {
      "text/html": [
       "<div>\n",
       "<style scoped>\n",
       "    .dataframe tbody tr th:only-of-type {\n",
       "        vertical-align: middle;\n",
       "    }\n",
       "\n",
       "    .dataframe tbody tr th {\n",
       "        vertical-align: top;\n",
       "    }\n",
       "\n",
       "    .dataframe thead th {\n",
       "        text-align: right;\n",
       "    }\n",
       "</style>\n",
       "<table border=\"1\" class=\"dataframe\">\n",
       "  <thead>\n",
       "    <tr style=\"text-align: right;\">\n",
       "      <th></th>\n",
       "      <th>Age</th>\n",
       "      <th>Attrition</th>\n",
       "      <th>BusinessTravel</th>\n",
       "      <th>DailyRate</th>\n",
       "      <th>Department</th>\n",
       "      <th>DistanceFromHome</th>\n",
       "      <th>Education</th>\n",
       "      <th>EducationField</th>\n",
       "      <th>EmployeeCount</th>\n",
       "      <th>EmployeeNumber</th>\n",
       "      <th>...</th>\n",
       "      <th>RelationshipSatisfaction</th>\n",
       "      <th>StandardHours</th>\n",
       "      <th>StockOptionLevel</th>\n",
       "      <th>TotalWorkingYears</th>\n",
       "      <th>TrainingTimesLastYear</th>\n",
       "      <th>WorkLifeBalance</th>\n",
       "      <th>YearsAtCompany</th>\n",
       "      <th>YearsInCurrentRole</th>\n",
       "      <th>YearsSinceLastPromotion</th>\n",
       "      <th>YearsWithCurrManager</th>\n",
       "    </tr>\n",
       "  </thead>\n",
       "  <tbody>\n",
       "    <tr>\n",
       "      <th>0</th>\n",
       "      <td>41</td>\n",
       "      <td>Yes</td>\n",
       "      <td>Travel_Rarely</td>\n",
       "      <td>1102</td>\n",
       "      <td>Sales</td>\n",
       "      <td>1</td>\n",
       "      <td>2</td>\n",
       "      <td>Life Sciences</td>\n",
       "      <td>1</td>\n",
       "      <td>1</td>\n",
       "      <td>...</td>\n",
       "      <td>1</td>\n",
       "      <td>80</td>\n",
       "      <td>0</td>\n",
       "      <td>8</td>\n",
       "      <td>0</td>\n",
       "      <td>1</td>\n",
       "      <td>6</td>\n",
       "      <td>4</td>\n",
       "      <td>0</td>\n",
       "      <td>5</td>\n",
       "    </tr>\n",
       "    <tr>\n",
       "      <th>1</th>\n",
       "      <td>49</td>\n",
       "      <td>No</td>\n",
       "      <td>Travel_Frequently</td>\n",
       "      <td>279</td>\n",
       "      <td>Research &amp; Development</td>\n",
       "      <td>8</td>\n",
       "      <td>1</td>\n",
       "      <td>Life Sciences</td>\n",
       "      <td>1</td>\n",
       "      <td>2</td>\n",
       "      <td>...</td>\n",
       "      <td>4</td>\n",
       "      <td>80</td>\n",
       "      <td>1</td>\n",
       "      <td>10</td>\n",
       "      <td>3</td>\n",
       "      <td>3</td>\n",
       "      <td>10</td>\n",
       "      <td>7</td>\n",
       "      <td>1</td>\n",
       "      <td>7</td>\n",
       "    </tr>\n",
       "    <tr>\n",
       "      <th>2</th>\n",
       "      <td>37</td>\n",
       "      <td>Yes</td>\n",
       "      <td>Travel_Rarely</td>\n",
       "      <td>1373</td>\n",
       "      <td>Research &amp; Development</td>\n",
       "      <td>2</td>\n",
       "      <td>2</td>\n",
       "      <td>Other</td>\n",
       "      <td>1</td>\n",
       "      <td>4</td>\n",
       "      <td>...</td>\n",
       "      <td>2</td>\n",
       "      <td>80</td>\n",
       "      <td>0</td>\n",
       "      <td>7</td>\n",
       "      <td>3</td>\n",
       "      <td>3</td>\n",
       "      <td>0</td>\n",
       "      <td>0</td>\n",
       "      <td>0</td>\n",
       "      <td>0</td>\n",
       "    </tr>\n",
       "    <tr>\n",
       "      <th>3</th>\n",
       "      <td>33</td>\n",
       "      <td>No</td>\n",
       "      <td>Travel_Frequently</td>\n",
       "      <td>1392</td>\n",
       "      <td>Research &amp; Development</td>\n",
       "      <td>3</td>\n",
       "      <td>4</td>\n",
       "      <td>Life Sciences</td>\n",
       "      <td>1</td>\n",
       "      <td>5</td>\n",
       "      <td>...</td>\n",
       "      <td>3</td>\n",
       "      <td>80</td>\n",
       "      <td>0</td>\n",
       "      <td>8</td>\n",
       "      <td>3</td>\n",
       "      <td>3</td>\n",
       "      <td>8</td>\n",
       "      <td>7</td>\n",
       "      <td>3</td>\n",
       "      <td>0</td>\n",
       "    </tr>\n",
       "    <tr>\n",
       "      <th>4</th>\n",
       "      <td>27</td>\n",
       "      <td>No</td>\n",
       "      <td>Travel_Rarely</td>\n",
       "      <td>591</td>\n",
       "      <td>Research &amp; Development</td>\n",
       "      <td>2</td>\n",
       "      <td>1</td>\n",
       "      <td>Medical</td>\n",
       "      <td>1</td>\n",
       "      <td>7</td>\n",
       "      <td>...</td>\n",
       "      <td>4</td>\n",
       "      <td>80</td>\n",
       "      <td>1</td>\n",
       "      <td>6</td>\n",
       "      <td>3</td>\n",
       "      <td>3</td>\n",
       "      <td>2</td>\n",
       "      <td>2</td>\n",
       "      <td>2</td>\n",
       "      <td>2</td>\n",
       "    </tr>\n",
       "  </tbody>\n",
       "</table>\n",
       "<p>5 rows × 35 columns</p>\n",
       "</div>"
      ],
      "text/plain": [
       "   Age Attrition     BusinessTravel  DailyRate              Department  \\\n",
       "0   41       Yes      Travel_Rarely       1102                   Sales   \n",
       "1   49        No  Travel_Frequently        279  Research & Development   \n",
       "2   37       Yes      Travel_Rarely       1373  Research & Development   \n",
       "3   33        No  Travel_Frequently       1392  Research & Development   \n",
       "4   27        No      Travel_Rarely        591  Research & Development   \n",
       "\n",
       "   DistanceFromHome  Education EducationField  EmployeeCount  EmployeeNumber  \\\n",
       "0                 1          2  Life Sciences              1               1   \n",
       "1                 8          1  Life Sciences              1               2   \n",
       "2                 2          2          Other              1               4   \n",
       "3                 3          4  Life Sciences              1               5   \n",
       "4                 2          1        Medical              1               7   \n",
       "\n",
       "   ...  RelationshipSatisfaction StandardHours  StockOptionLevel  \\\n",
       "0  ...                         1            80                 0   \n",
       "1  ...                         4            80                 1   \n",
       "2  ...                         2            80                 0   \n",
       "3  ...                         3            80                 0   \n",
       "4  ...                         4            80                 1   \n",
       "\n",
       "   TotalWorkingYears  TrainingTimesLastYear WorkLifeBalance  YearsAtCompany  \\\n",
       "0                  8                      0               1               6   \n",
       "1                 10                      3               3              10   \n",
       "2                  7                      3               3               0   \n",
       "3                  8                      3               3               8   \n",
       "4                  6                      3               3               2   \n",
       "\n",
       "  YearsInCurrentRole  YearsSinceLastPromotion  YearsWithCurrManager  \n",
       "0                  4                        0                     5  \n",
       "1                  7                        1                     7  \n",
       "2                  0                        0                     0  \n",
       "3                  7                        3                     0  \n",
       "4                  2                        2                     2  \n",
       "\n",
       "[5 rows x 35 columns]"
      ]
     },
     "execution_count": 108,
     "metadata": {},
     "output_type": "execute_result"
    }
   ],
   "source": [
    "# 잘 load 되었는지 확인\n",
    "df.head(5)"
   ]
  },
  {
   "cell_type": "code",
   "execution_count": 109,
   "id": "0342749b",
   "metadata": {},
   "outputs": [
    {
     "data": {
      "text/plain": [
       "Index(['Age', 'Attrition', 'BusinessTravel', 'DailyRate', 'Department',\n",
       "       'DistanceFromHome', 'Education', 'EducationField', 'EmployeeCount',\n",
       "       'EmployeeNumber', 'EnvironmentSatisfaction', 'Gender', 'HourlyRate',\n",
       "       'JobInvolvement', 'JobLevel', 'JobRole', 'JobSatisfaction',\n",
       "       'MaritalStatus', 'MonthlyIncome', 'MonthlyRate', 'NumCompaniesWorked',\n",
       "       'Over18', 'OverTime', 'PercentSalaryHike', 'PerformanceRating',\n",
       "       'RelationshipSatisfaction', 'StandardHours', 'StockOptionLevel',\n",
       "       'TotalWorkingYears', 'TrainingTimesLastYear', 'WorkLifeBalance',\n",
       "       'YearsAtCompany', 'YearsInCurrentRole', 'YearsSinceLastPromotion',\n",
       "       'YearsWithCurrManager'],\n",
       "      dtype='object')"
      ]
     },
     "execution_count": 109,
     "metadata": {},
     "output_type": "execute_result"
    }
   ],
   "source": [
    "df.columns"
   ]
  },
  {
   "cell_type": "code",
   "execution_count": 110,
   "id": "409027e7",
   "metadata": {},
   "outputs": [],
   "source": [
    "df = df.drop(['Over18', 'EmployeeNumber','EmployeeCount','StandardHours'],axis=1)"
   ]
  },
  {
   "cell_type": "code",
   "execution_count": 111,
   "id": "c3f29e94",
   "metadata": {},
   "outputs": [],
   "source": [
    "DF = df.copy()"
   ]
  },
  {
   "cell_type": "code",
   "execution_count": 112,
   "id": "ad0f0387",
   "metadata": {},
   "outputs": [
    {
     "name": "stderr",
     "output_type": "stream",
     "text": [
      "C:\\Users\\jhwoo\\AppData\\Local\\Temp\\ipykernel_40504\\1083513614.py:3: FutureWarning: Downcasting behavior in `replace` is deprecated and will be removed in a future version. To retain the old behavior, explicitly call `result.infer_objects(copy=False)`. To opt-in to the future behavior, set `pd.set_option('future.no_silent_downcasting', True)`\n",
      "  DF['BusinessTravel'] = DF['BusinessTravel'].replace('Non-Travel',4)\n",
      "C:\\Users\\jhwoo\\AppData\\Local\\Temp\\ipykernel_40504\\1083513614.py:6: FutureWarning: Downcasting behavior in `replace` is deprecated and will be removed in a future version. To retain the old behavior, explicitly call `result.infer_objects(copy=False)`. To opt-in to the future behavior, set `pd.set_option('future.no_silent_downcasting', True)`\n",
      "  DF['Attrition'] = DF['Attrition'].replace('No',3)\n",
      "C:\\Users\\jhwoo\\AppData\\Local\\Temp\\ipykernel_40504\\1083513614.py:9: FutureWarning: Downcasting behavior in `replace` is deprecated and will be removed in a future version. To retain the old behavior, explicitly call `result.infer_objects(copy=False)`. To opt-in to the future behavior, set `pd.set_option('future.no_silent_downcasting', True)`\n",
      "  DF['OverTime'] = DF['OverTime'].replace('No',3)\n",
      "C:\\Users\\jhwoo\\AppData\\Local\\Temp\\ipykernel_40504\\1083513614.py:12: FutureWarning: Downcasting behavior in `replace` is deprecated and will be removed in a future version. To retain the old behavior, explicitly call `result.infer_objects(copy=False)`. To opt-in to the future behavior, set `pd.set_option('future.no_silent_downcasting', True)`\n",
      "  DF['Gender'] = DF['Gender'].replace('Female',3)\n",
      "C:\\Users\\jhwoo\\AppData\\Local\\Temp\\ipykernel_40504\\1083513614.py:16: FutureWarning: Downcasting behavior in `replace` is deprecated and will be removed in a future version. To retain the old behavior, explicitly call `result.infer_objects(copy=False)`. To opt-in to the future behavior, set `pd.set_option('future.no_silent_downcasting', True)`\n",
      "  DF['MaritalStatus'] = DF['MaritalStatus'].replace('Divorced',4)\n",
      "C:\\Users\\jhwoo\\AppData\\Local\\Temp\\ipykernel_40504\\1083513614.py:20: FutureWarning: Downcasting behavior in `replace` is deprecated and will be removed in a future version. To retain the old behavior, explicitly call `result.infer_objects(copy=False)`. To opt-in to the future behavior, set `pd.set_option('future.no_silent_downcasting', True)`\n",
      "  DF['Department'] = DF['Department'].replace('Research & Development',4)\n",
      "C:\\Users\\jhwoo\\AppData\\Local\\Temp\\ipykernel_40504\\1083513614.py:27: FutureWarning: Downcasting behavior in `replace` is deprecated and will be removed in a future version. To retain the old behavior, explicitly call `result.infer_objects(copy=False)`. To opt-in to the future behavior, set `pd.set_option('future.no_silent_downcasting', True)`\n",
      "  DF['EducationField'] = DF['EducationField'].replace('Other',4)\n",
      "C:\\Users\\jhwoo\\AppData\\Local\\Temp\\ipykernel_40504\\1083513614.py:37: FutureWarning: Downcasting behavior in `replace` is deprecated and will be removed in a future version. To retain the old behavior, explicitly call `result.infer_objects(copy=False)`. To opt-in to the future behavior, set `pd.set_option('future.no_silent_downcasting', True)`\n",
      "  DF['JobRole'] = DF['JobRole'].replace('Human Resources',4)\n"
     ]
    }
   ],
   "source": [
    "DF['BusinessTravel'] = DF['BusinessTravel'].replace('Travel_Rarely',2)\n",
    "DF['BusinessTravel'] = DF['BusinessTravel'].replace('Travel_Frequently',3)\n",
    "DF['BusinessTravel'] = DF['BusinessTravel'].replace('Non-Travel',4)\n",
    "\n",
    "DF['Attrition'] = DF['Attrition'].replace('Yes',2)\n",
    "DF['Attrition'] = DF['Attrition'].replace('No',3)\n",
    "\n",
    "DF['OverTime'] = DF['OverTime'].replace('Yes',2)\n",
    "DF['OverTime'] = DF['OverTime'].replace('No',3)\n",
    "\n",
    "DF['Gender'] = DF['Gender'].replace('Male',2)\n",
    "DF['Gender'] = DF['Gender'].replace('Female',3)\n",
    "\n",
    "DF['MaritalStatus'] = DF['MaritalStatus'].replace('Single',2)\n",
    "DF['MaritalStatus'] = DF['MaritalStatus'].replace('Married',3)\n",
    "DF['MaritalStatus'] = DF['MaritalStatus'].replace('Divorced',4)\n",
    "\n",
    "DF['Department'] = DF['Department'].replace('Sales',2)\n",
    "DF['Department'] = DF['Department'].replace('Human Resources',3)\n",
    "DF['Department'] = DF['Department'].replace('Research & Development',4)\n",
    "\n",
    "DF['EducationField'] = DF['EducationField'].replace('Life Sciences',2)\n",
    "DF['EducationField'] = DF['EducationField'].replace('Medical',3)\n",
    "DF['EducationField'] = DF['EducationField'].replace('Marketing',4)\n",
    "DF['EducationField'] = DF['EducationField'].replace('Technical Degree',2)\n",
    "DF['EducationField'] = DF['EducationField'].replace('Human Resources',3)\n",
    "DF['EducationField'] = DF['EducationField'].replace('Other',4)\n",
    "\n",
    "DF['JobRole'] = DF['JobRole'].replace('Sales Executive',2)\n",
    "DF['JobRole'] = DF['JobRole'].replace('Manufacturing Director',3)\n",
    "DF['JobRole'] = DF['JobRole'].replace('Healthcare Representative',4)\n",
    "DF['JobRole'] = DF['JobRole'].replace('Manager',2)\n",
    "DF['JobRole'] = DF['JobRole'].replace('Research Director',3)\n",
    "DF['JobRole'] = DF['JobRole'].replace('Laboratory Technician',4)\n",
    "DF['JobRole'] = DF['JobRole'].replace('Sales Representative',2)\n",
    "DF['JobRole'] = DF['JobRole'].replace('Research Scientist',3)\n",
    "DF['JobRole'] = DF['JobRole'].replace('Human Resources',4)"
   ]
  },
  {
   "cell_type": "code",
   "execution_count": 113,
   "id": "9546a765",
   "metadata": {},
   "outputs": [],
   "source": [
    "DF = DF.drop(['MonthlyIncome' ,'YearsInCurrentRole' , 'YearsAtCompany', 'YearsWithCurrManager'],axis=1)"
   ]
  },
  {
   "cell_type": "code",
   "execution_count": 114,
   "id": "ef4c4a62",
   "metadata": {},
   "outputs": [],
   "source": [
    "#normalizing \n",
    "from sklearn import preprocessing\n",
    "scaler = preprocessing.MinMaxScaler(feature_range = (0,1))\n",
    "DF1 = DF.drop(columns=['Attrition'])\n",
    "norm = scaler.fit_transform(DF)\n",
    "norm_df = pd.DataFrame(norm,columns=DF.columns)"
   ]
  },
  {
   "cell_type": "code",
   "execution_count": 115,
   "id": "920509d4",
   "metadata": {},
   "outputs": [],
   "source": [
    "X = pd.DataFrame(norm_df.drop(columns='Attrition'))\n",
    "Y = pd.DataFrame(norm_df.Attrition).values.reshape(-1, 1)"
   ]
  },
  {
   "cell_type": "code",
   "execution_count": 116,
   "id": "313eeeea",
   "metadata": {},
   "outputs": [],
   "source": [
    "from sklearn.model_selection import train_test_split\n",
    "\n",
    "x_train  , x_test , y_train, y_test = train_test_split (X ,Y ,test_size = 0.2, random_state = 0)"
   ]
  },
  {
   "cell_type": "code",
   "execution_count": 117,
   "id": "93a6287b",
   "metadata": {},
   "outputs": [],
   "source": [
    "#SMOTE\n",
    "from imblearn.over_sampling import SMOTE\n",
    "oversampler=SMOTE(random_state=0)\n",
    "smote_train, smote_target = oversampler.fit_resample(x_train,y_train)"
   ]
  },
  {
   "cell_type": "code",
   "execution_count": null,
   "id": "eedbadf7",
   "metadata": {},
   "outputs": [
    {
     "name": "stdout",
     "output_type": "stream",
     "text": [
      "accuracy 0.7687074829931972\n"
     ]
    }
   ],
   "source": [
    "from sklearn import metrics\n",
    "\n",
    "from sklearn.linear_model import LogisticRegression\n",
    "\n",
    "log_reg=LogisticRegression(C=1000,max_iter=10000)\n",
    "log_reg.fit(smote_train, smote_target)\n",
    "y_pred_lg = log_reg.predict(x_test) \n",
    "\n",
    "print ('accuracy',metrics.accuracy_score(y_test, y_pred_lg))"
   ]
  },
  {
   "cell_type": "code",
   "execution_count": 119,
   "id": "90801ba9",
   "metadata": {},
   "outputs": [],
   "source": [
    "import pickle\n",
    "with open('log_reg.pkl','wb') as f:\n",
    "    pickle.dump(log_reg,f)"
   ]
  },
  {
   "cell_type": "code",
   "execution_count": 120,
   "id": "1995fa26",
   "metadata": {},
   "outputs": [
    {
     "data": {
      "image/png": "[encoded data removed]",
      "text/plain": [
       "<Figure size 1000x500 with 2 Axes>"
      ]
     },
     "metadata": {},
     "output_type": "display_data"
    },
    {
     "name": "stdout",
     "output_type": "stream",
     "text": [
      "              precision    recall  f1-score   support\n",
      "\n",
      "         0.0       0.40      0.78      0.53        49\n",
      "         1.0       0.94      0.77      0.85       245\n",
      "\n",
      "    accuracy                           0.77       294\n",
      "   macro avg       0.67      0.77      0.69       294\n",
      "weighted avg       0.85      0.77      0.79       294\n",
      "\n"
     ]
    }
   ],
   "source": [
    "import seaborn as sns\n",
    "import matplotlib.pyplot as plt\n",
    "from sklearn.metrics import accuracy_score, classification_report, roc_auc_score\n",
    "\n",
    "fig, ax = plt.subplots(figsize=(10,5))\n",
    "cm = metrics.confusion_matrix(y_test,y_pred_lg)\n",
    "sns.heatmap(metrics.confusion_matrix(y_test,y_pred_lg),annot=True, cmap=\"YlGnBu\" ,fmt='g')\n",
    "plt.title('Confusion matrix', y=1.1)\n",
    "ax.xaxis.set_label_position(\"top\")\n",
    "plt.tight_layout()\n",
    "plt.xlabel('y prediction')\n",
    "plt.ylabel('y actual')\n",
    "plt.show()\n",
    "\n",
    "print(classification_report(y_test, y_pred_lg))"
   ]
  },
  {
   "cell_type": "code",
   "execution_count": 121,
   "id": "558c41bc",
   "metadata": {},
   "outputs": [],
   "source": [
    "from sklearn.ensemble import RandomForestClassifier"
   ]
  },
  {
   "cell_type": "code",
   "execution_count": 122,
   "id": "69eee98f",
   "metadata": {},
   "outputs": [
    {
     "name": "stdout",
     "output_type": "stream",
     "text": [
      "accuracy 0.9761904761904762\n"
     ]
    }
   ],
   "source": [
    "x_train, x_test, y_train, y_test = train_test_split(X, Y, test_size = 0.2, random_state = 42)\n",
    "\n",
    "rfc = RandomForestClassifier()\n",
    "rfc = rfc.fit(smote_train , smote_target)\n",
    "y_pred = rfc.predict(x_test)\n",
    "\n",
    "print ('accuracy',metrics.accuracy_score(y_test, y_pred))"
   ]
  },
  {
   "cell_type": "code",
   "execution_count": 123,
   "id": "c2e4228e",
   "metadata": {},
   "outputs": [],
   "source": [
    "import pickle\n",
    "with open('rfc.pkl','wb') as f:\n",
    "    pickle.dump(rfc,f)"
   ]
  },
  {
   "cell_type": "code",
   "execution_count": 124,
   "id": "84f38b1c",
   "metadata": {},
   "outputs": [
    {
     "data": {
      "image/png": "[encoded data removed]",
      "text/plain": [
       "<Figure size 1000x500 with 2 Axes>"
      ]
     },
     "metadata": {},
     "output_type": "display_data"
    },
    {
     "name": "stdout",
     "output_type": "stream",
     "text": [
      "              precision    recall  f1-score   support\n",
      "\n",
      "         0.0       1.00      0.82      0.90        39\n",
      "         1.0       0.97      1.00      0.99       255\n",
      "\n",
      "    accuracy                           0.98       294\n",
      "   macro avg       0.99      0.91      0.94       294\n",
      "weighted avg       0.98      0.98      0.98       294\n",
      "\n"
     ]
    }
   ],
   "source": [
    "fig, ax = plt.subplots(figsize=(10,5))\n",
    "cm = metrics.confusion_matrix(y_test,y_pred)\n",
    "sns.heatmap(metrics.confusion_matrix(y_test,y_pred),annot=True, cmap=\"YlGnBu\" ,fmt='g')\n",
    "plt.title('Confusion matrix', y=1.1)\n",
    "ax.xaxis.set_label_position(\"top\")\n",
    "plt.tight_layout()\n",
    "plt.xlabel('y prediction')\n",
    "plt.ylabel('y actual')\n",
    "plt.show()\n",
    "\n",
    "print(classification_report(y_test, y_pred))"
   ]
  },
  {
   "cell_type": "code",
   "execution_count": 125,
   "id": "e71ab151",
   "metadata": {},
   "outputs": [
    {
     "name": "stdout",
     "output_type": "stream",
     "text": [
      "accuracy 0.9795918367346939\n"
     ]
    }
   ],
   "source": [
    "seed=0\n",
    "gb_params ={\n",
    "    'n_estimators': 1500,\n",
    "    'max_features': 0.9,\n",
    "    'learning_rate' : 0.25,\n",
    "    'max_depth': 4,\n",
    "    'min_samples_leaf': 2,\n",
    "    'subsample': 1,\n",
    "    'max_features' : 'sqrt',\n",
    "    'random_state' : seed,\n",
    "    'verbose': 0}\n",
    "\n",
    "from sklearn.ensemble import  GradientBoostingClassifier\n",
    "\n",
    "gb = GradientBoostingClassifier(**gb_params)\n",
    "gb.fit(smote_train, smote_target)\n",
    "\n",
    "gb_predictions = gb.predict(x_test)\n",
    "print('accuracy',metrics.accuracy_score(y_test, gb_predictions))"
   ]
  },
  {
   "cell_type": "code",
   "execution_count": null,
   "id": "ec1c55d6",
   "metadata": {},
   "outputs": [],
   "source": [
    "import pickle\n",
    "with open('gb.pkl','wb') as f:\n",
    "    pickle.dump(gb,f)"
   ]
  },
  {
   "cell_type": "code",
   "execution_count": null,
   "id": "79d742be",
   "metadata": {},
   "outputs": [
    {
     "data": {
      "image/png": "[encoded data removed]",
      "text/plain": [
       "<Figure size 1000x500 with 2 Axes>"
      ]
     },
     "metadata": {},
     "output_type": "display_data"
    },
    {
     "name": "stdout",
     "output_type": "stream",
     "text": [
      "              precision    recall  f1-score   support\n",
      "\n",
      "         0.0       0.97      0.87      0.92        39\n",
      "         1.0       0.98      1.00      0.99       255\n",
      "\n",
      "    accuracy                           0.98       294\n",
      "   macro avg       0.98      0.93      0.95       294\n",
      "weighted avg       0.98      0.98      0.98       294\n",
      "\n"
     ]
    }
   ],
   "source": [
    "fig, ax = plt.subplots(figsize=(10,5))\n",
    "cm = metrics.confusion_matrix(y_test,y_pred)\n",
    "sns.heatmap(metrics.confusion_matrix(y_test,y_pred),annot=True, cmap=\"YlGnBu\" ,fmt='g')\n",
    "plt.title('Confusion matrix', y=1.1)\n",
    "ax.xaxis.set_label_position(\"top\")\n",
    "plt.tight_layout()\n",
    "plt.xlabel('y prediction')\n",
    "plt.ylabel('y actual')\n",
    "plt.show()\n",
    "\n",
    "print(classification_report(y_test, gb_predictions))"
   ]
  },
  {
   "cell_type": "code",
   "execution_count": null,
   "id": "3f0bff7b",
   "metadata": {},
   "outputs": [],
   "source": []
  }
 ],
 "metadata": {
  "kernelspec": {
   "display_name": "ml",
   "language": "python",
   "name": "python3"
  },
  "language_info": {
   "codemirror_mode": {
    "name": "ipython",
    "version": 3
   },
   "file_extension": ".py",
   "mimetype": "text/x-python",
   "name": "python",
   "nbconvert_exporter": "python",
   "pygments_lexer": "ipython3",
   "version": "3.12.10"
  }
 },
 "nbformat": 4,
 "nbformat_minor": 5
}
